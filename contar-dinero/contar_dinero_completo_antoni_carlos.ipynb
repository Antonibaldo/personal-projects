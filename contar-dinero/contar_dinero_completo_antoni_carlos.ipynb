{
 "cells": [
  {
   "cell_type": "code",
   "execution_count": 2,
   "id": "40be28e1",
   "metadata": {},
   "outputs": [],
   "source": [
    "#At the beggining we need install all the libraries that we will use and funtions to can see the image\n",
    "import pandas as pd\n",
    "import matplotlib as mpl\n",
    "import matplotlib.pyplot as plt \n",
    "from skimage import data,color\n",
    "\n",
    "import numpy as np\n",
    "def show_image(image, title='Image', cmap_type='gray'):\n",
    "    plt.imshow(image, cmap=cmap_type)\n",
    "    plt.title(title)\n",
    "    plt.axis('off')\n",
    "    plt.show()\n",
    "    \n",
    "def plot_comparison(original,filtered,title_filtered):\n",
    "    fig, (ax1,ax2) = plt.subplots(ncols=2,figsize=(8,6),sharex=True,sharey=True)\n",
    "    ax1.imshow(original,cmap= plt.cm.gray)\n",
    "    ax1.set_title('original')\n",
    "    ax1.axis('off')\n",
    "    ax2.imshow(filtered,cmap = plt.cm.gray)\n",
    "    ax2.set_title(title_filtered)\n",
    "    ax2.axis('off')"
   ]
  },
  {
   "cell_type": "code",
   "execution_count": 3,
   "id": "42f2451c",
   "metadata": {},
   "outputs": [],
   "source": [
    "# We create a variable to can call the image\n",
    "imagen_image=plt.imread('Computer_vision.jpeg')"
   ]
  },
  {
   "cell_type": "code",
   "execution_count": 4,
   "id": "24e85850",
   "metadata": {},
   "outputs": [],
   "source": [
    "import cv2 \n",
    "import numpy as np\n",
    "\n",
    "# Get the dimensions of the image\n",
    "height, width = imagen_image.shape[:2]\n",
    "\n",
    "# Reduce the image to half its original size\n",
    "img = cv2.resize(imagen_image, (int(width/2), int(height/2)))"
   ]
  },
  {
   "cell_type": "code",
   "execution_count": 5,
   "id": "e37be887",
   "metadata": {},
   "outputs": [],
   "source": [
    "import cv2 as cv\n",
    "\n",
    "# Convert the image to grayscale\n",
    "gray = cv2.cvtColor(img, cv2.COLOR_BGR2GRAY)\n",
    "\n",
    "# Apply an adaptive threshold to convert the image to a binary image(only have pixels white and gray)\n",
    "thresh = cv.adaptiveThreshold(gray, 255, cv.ADAPTIVE_THRESH_MEAN_C, cv.THRESH_BINARY_INV, 11, 2)\n",
    "\n",
    "# Find the outlines in the binary image\n",
    "contours, hierarchy = cv.findContours(thresh, cv.RETR_EXTERNAL, cv.CHAIN_APPROX_SIMPLE)"
   ]
  },
  {
   "cell_type": "code",
   "execution_count": 6,
   "id": "ebc2c90d",
   "metadata": {},
   "outputs": [
    {
     "data": {
      "text/plain": [
       "48"
      ]
     },
     "execution_count": 6,
     "metadata": {},
     "output_type": "execute_result"
    }
   ],
   "source": [
    "# Separate the outlines of coins and banknotes\n",
    "monedas_contours = []\n",
    "billetes_contours = []\n",
    "for cnt in contours:\n",
    "    area = cv.contourArea(cnt)\n",
    "    if area < 1000:\n",
    "        continue\n",
    "    if area < 15000:\n",
    "        monedas_contours.append(cnt)\n",
    "    else:\n",
    "        billetes_contours.append(cnt)\n",
    "        \n",
    "\n",
    "# Draw the outlines of the coins in the original image,the numbers(outlines,color and widt)\n",
    "img_monedas = np.copy(img)\n",
    "cv.drawContours(img_monedas, monedas_contours, -1, (0, 0, 255), 2)\n",
    "\n",
    "# Draw the outlines of the banknotes in the original image\n",
    "img_billetes = np.copy(img)\n",
    "cv.drawContours(img_billetes, billetes_contours, -1, (0, 0, 255), 2)\n",
    "\n",
    "#Shows\n",
    "cv.imshow('Coins', img_monedas)\n",
    "cv.imshow('Bills', img_billetes)\n",
    "cv.waitKey(0)"
   ]
  },
  {
   "cell_type": "code",
   "execution_count": 7,
   "id": "83cf5099",
   "metadata": {},
   "outputs": [
    {
     "name": "stdout",
     "output_type": "stream",
     "text": [
      "The area of the object is: 31338.5 pixels.\n",
      "The area of the object is: 53101.0 pixels.\n",
      "The area of the object is: 43619.5 pixels.\n",
      "The area of the object is: 52124.5 pixels.\n"
     ]
    }
   ],
   "source": [
    "for contour in billetes_contours:\n",
    "    area = cv2.contourArea(contour)\n",
    "    print(\"The area of the object is:\", area, \"pixels.\")"
   ]
  },
  {
   "cell_type": "code",
   "execution_count": 8,
   "id": "619eaf57",
   "metadata": {},
   "outputs": [
    {
     "name": "stdout",
     "output_type": "stream",
     "text": [
      "The total value of the coins is: 35\n"
     ]
    }
   ],
   "source": [
    "# Assign values to Money bills\n",
    "valor_metro=0\n",
    "valor_5 = 5\n",
    "valor_10 = 10\n",
    "valor_20 = 20\n",
    "\n",
    "#Separate the Money bills\n",
    "billte_metro= []\n",
    "billte_5 = []\n",
    "billte_10 = []\n",
    "billte_20 = []\n",
    "\n",
    "for cnt in billetes_contours:\n",
    "    area = cv.contourArea(cnt)\n",
    "    if area == 31338.5:\n",
    "        billte_metro.append(cnt)\n",
    "    elif area == 43619.5:\n",
    "        billte_5.append(cnt)\n",
    "    elif area == 52124.5:\n",
    "        billte_10.append(cnt)\n",
    "    elif area == 53101.0:\n",
    "        billte_20.append(cnt)\n",
    "#Calculate the total\n",
    "valor_total_billetes = 0\n",
    "for cnt in billte_metro:\n",
    "    valor_total_billetes += valor_metro\n",
    "\n",
    "for cnt in billte_5:\n",
    "    valor_total_billetes += valor_5\n",
    "\n",
    "for cnt in billte_10:\n",
    "    valor_total_billetes += valor_10\n",
    "\n",
    "for cnt in billte_20:\n",
    "    valor_total_billetes += valor_20\n",
    "    \n",
    "print(\"The total value of the coins is:\", valor_total_billetes)\n",
    "\n"
   ]
  },
  {
   "cell_type": "code",
   "execution_count": 9,
   "id": "46ce30ab",
   "metadata": {},
   "outputs": [
    {
     "name": "stdout",
     "output_type": "stream",
     "text": [
      "The area of the object is: 2895.0 pixels.\n",
      "The area of the object is: 2310.0 pixels.\n",
      "The area of the object is: 2376.5 pixels.\n",
      "The area of the object is: 3074.5 pixels.\n",
      "The area of the object is: 2699.5 pixels.\n",
      "The area of the object is: 3018.5 pixels.\n",
      "The area of the object is: 1619.0 pixels.\n",
      "The area of the object is: 3501.0 pixels.\n",
      "The area of the object is: 3207.5 pixels.\n",
      "The area of the object is: 3026.0 pixels.\n",
      "The area of the object is: 2343.5 pixels.\n"
     ]
    }
   ],
   "source": [
    "for contour in monedas_contours:\n",
    "    area = cv2.contourArea(contour)\n",
    "    print(\"The area of the object is:\", area, \"pixels.\")"
   ]
  },
  {
   "cell_type": "code",
   "execution_count": 10,
   "id": "09627282",
   "metadata": {},
   "outputs": [
    {
     "name": "stdout",
     "output_type": "stream",
     "text": [
      "The total value of the coins is: 4.18\n"
     ]
    }
   ],
   "source": [
    "# Assign values to currencies\n",
    "valor_moneda_1_cent = 0.01\n",
    "valor_moneda_2_cent = 0.02\n",
    "valor_moneda_5_cent = 0.05\n",
    "valor_moneda_10_cent = 0.10\n",
    "valor_moneda_20_cent = 0.20\n",
    "valor_moneda_50_cent = 0.50\n",
    "valor_moneda_1_euro = 1\n",
    "valor_moneda_2_euro = 2\n",
    "\n",
    "# Separate the coins\n",
    "monedas_1_cent_contours = []\n",
    "monedas_2_cent_contours = []\n",
    "monedas_5_cent_contours = []\n",
    "monedas_10_cent_contours = []\n",
    "monedas_20_cent_contours = []\n",
    "monedas_50_cent_contours = []\n",
    "monedas_1_contours = []\n",
    "monedas_2_contours = []\n",
    "for cnt in monedas_contours:\n",
    "    area = cv.contourArea(cnt)\n",
    "    if area < 1650:\n",
    "        monedas_1_cent_contours.append(cnt)\n",
    "    elif area < 2400:\n",
    "        monedas_5_cent_contours.append(cnt)\n",
    "    elif area < 2700:\n",
    "        monedas_2_cent_contours.append(cnt)\n",
    "    elif area < 2900:\n",
    "        monedas_10_cent_contours.append(cnt)\n",
    "    elif area < 3030:\n",
    "        monedas_20_cent_contours.append(cnt)\n",
    "    elif area < 3100:\n",
    "        monedas_50_cent_contours.append(cnt)\n",
    "    elif area < 3250:\n",
    "        monedas_1_contours.append(cnt)\n",
    "    elif area < 3550:\n",
    "        monedas_2_contours.append(cnt)\n",
    "        \n",
    "# Calcular el valor total de las monedas\n",
    "valor_total_monedas = 0\n",
    "for cnt in monedas_1_cent_contours:\n",
    "    valor_total_monedas += valor_moneda_1_cent\n",
    "\n",
    "for cnt in monedas_2_cent_contours:\n",
    "    valor_total_monedas += valor_moneda_2_cent\n",
    "\n",
    "for cnt in monedas_5_cent_contours:\n",
    "    valor_total_monedas += valor_moneda_5_cent\n",
    "\n",
    "for cnt in monedas_10_cent_contours:\n",
    "    valor_total_monedas += valor_moneda_10_cent\n",
    "\n",
    "for cnt in monedas_20_cent_contours:\n",
    "    valor_total_monedas += valor_moneda_20_cent\n",
    "\n",
    "for cnt in monedas_50_cent_contours:\n",
    "    valor_total_monedas += valor_moneda_50_cent\n",
    "\n",
    "for cnt in monedas_1_contours:\n",
    "    valor_total_monedas += valor_moneda_1_euro\n",
    "\n",
    "for cnt in monedas_2_contours:\n",
    "    valor_total_monedas += valor_moneda_2_euro\n",
    "print(\"The total value of the coins is:\", valor_total_monedas)\n",
    "\n"
   ]
  },
  {
   "cell_type": "code",
   "execution_count": 11,
   "id": "50a35104",
   "metadata": {},
   "outputs": [
    {
     "name": "stdout",
     "output_type": "stream",
     "text": [
      "The total money in the photo is: 39.18\n"
     ]
    }
   ],
   "source": [
    "print(\"The total money in the photo is:\", valor_total_monedas + valor_total_billetes)\n"
   ]
  }
 ],
 "metadata": {
  "kernelspec": {
   "display_name": "Python 3 (ipykernel)",
   "language": "python",
   "name": "python3"
  },
  "language_info": {
   "codemirror_mode": {
    "name": "ipython",
    "version": 3
   },
   "file_extension": ".py",
   "mimetype": "text/x-python",
   "name": "python",
   "nbconvert_exporter": "python",
   "pygments_lexer": "ipython3",
   "version": "3.9.7"
  },
  "vscode": {
   "interpreter": {
    "hash": "81cfb6f3e23f1b57314c62a6cd34e1579f99262036ab54aa62d15164c0bc44e3"
   }
  }
 },
 "nbformat": 4,
 "nbformat_minor": 5
}
